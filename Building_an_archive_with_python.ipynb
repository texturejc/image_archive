{
 "cells": [
  {
   "cell_type": "markdown",
   "id": "6295961b",
   "metadata": {},
   "source": [
    "# 1. Using an API to collate images\n",
    "\n",
    "## Example usage: [the NASA images API](https://images.nasa.gov/docs/images.nasa.gov_api_docs.pdf)"
   ]
  },
  {
   "cell_type": "markdown",
   "id": "5929916c",
   "metadata": {},
   "source": [
    "### 1. Get the data"
   ]
  },
  {
   "cell_type": "code",
   "execution_count": 10,
   "id": "a8388209",
   "metadata": {},
   "outputs": [],
   "source": [
    "import requests \n",
    "import pandas as pd\n",
    "\n",
    "\n",
    "search_items = ['europa', 'mars', 'voyager']\n",
    "\n",
    "results = []\n",
    "\n",
    "\n",
    "for i in search_items:\n",
    "    url = \"https://images-api.nasa.gov/search\"\n",
    "    params = {\n",
    "    \"q\": i,\n",
    "    \"year_start\": \"1999\",\n",
    "    \"year_end\": \"2020\",\n",
    "    \"media_type\": \"image\"}\n",
    "    response = requests.get(url, params=params)\n",
    "    results.append(response.json())\n",
    "\n",
    "    "
   ]
  },
  {
   "cell_type": "markdown",
   "id": "3505e84d",
   "metadata": {},
   "source": [
    "### 2. Convert the data into a pandas dataframe"
   ]
  },
  {
   "cell_type": "code",
   "execution_count": 28,
   "id": "e5bc7cc0",
   "metadata": {},
   "outputs": [],
   "source": [
    "dfs = []\n",
    "\n",
    "for i in range(len(results)):\n",
    "    dfs.append(pd.DataFrame(results[i]['collection']['items']))\n",
    "    \n",
    "\n",
    "df = pd.concat(dfs).reset_index(drop = True)"
   ]
  },
  {
   "cell_type": "markdown",
   "id": "9b4553c3",
   "metadata": {},
   "source": [
    "### 3. Extract the metadata of interest"
   ]
  },
  {
   "cell_type": "code",
   "execution_count": 31,
   "id": "17a453c9",
   "metadata": {},
   "outputs": [],
   "source": [
    "title = [i[0]['title'] for i in df['data']]\n",
    "URLs = [i[0]['href'] for i in df['links']]\n",
    "\n",
    "df['title'] = title\n",
    "df['URLs'] = URLs"
   ]
  },
  {
   "cell_type": "code",
   "execution_count": null,
   "id": "a0ab5e1b",
   "metadata": {},
   "outputs": [],
   "source": [
    "df"
   ]
  },
  {
   "cell_type": "markdown",
   "id": "1807d16f",
   "metadata": {},
   "source": [
    "### 4. Download the images of interest"
   ]
  },
  {
   "cell_type": "code",
   "execution_count": null,
   "id": "b74ba796",
   "metadata": {},
   "outputs": [],
   "source": [
    "for i in range(len(df)):\n",
    "    response = requests.get(df['URLs'][i])\n",
    "    with open(\"/Users/james/Documents/images/images/\"+df['title'][i]+\".jpeg\", 'wb') as file:\n",
    "        file.write(response.content)"
   ]
  },
  {
   "cell_type": "code",
   "execution_count": 19,
   "id": "2bc86f84",
   "metadata": {},
   "outputs": [],
   "source": [
    "with open(\"/Users/james/Documents/images/images/example.jpeg\", 'wb') as file:\n",
    "            file.write(response.content)"
   ]
  },
  {
   "cell_type": "code",
   "execution_count": null,
   "id": "ea7a6374",
   "metadata": {},
   "outputs": [],
   "source": [
    "df.to_excel('/Users/james/Documents/images/images/data.xlsx')"
   ]
  },
  {
   "cell_type": "markdown",
   "id": "110ecc23",
   "metadata": {},
   "source": [
    "   ## Exercise: Find an image API and try to access it using the `requests` module"
   ]
  },
  {
   "cell_type": "markdown",
   "id": "58c2cf12",
   "metadata": {},
   "source": [
    "# 2. Interrogating an existing dataset"
   ]
  },
  {
   "cell_type": "code",
   "execution_count": 9,
   "id": "8e13cbf3",
   "metadata": {},
   "outputs": [],
   "source": [
    "import glob\n",
    "import os\n",
    "import matplotlib.pyplot as plt\n",
    "from IPython.display import display, HTML, Image\n",
    "\n",
    "files = glob.glob(\"/Users/james/Documents/images/images/*.jpeg\")"
   ]
  },
  {
   "cell_type": "code",
   "execution_count": 10,
   "id": "bd6ef07f",
   "metadata": {},
   "outputs": [],
   "source": [
    "vger = [i for i in files if \"voyager\" in i.lower()]"
   ]
  },
  {
   "cell_type": "code",
   "execution_count": null,
   "id": "8e39e0ef",
   "metadata": {},
   "outputs": [],
   "source": [
    "for image_path in vger:\n",
    "    display(Image(filename=image_path, width=200))\n"
   ]
  },
  {
   "cell_type": "markdown",
   "id": "cd388d87",
   "metadata": {},
   "source": [
    "## Exercise: Find an existing dataset and sub-sample it for a topic of interest"
   ]
  },
  {
   "cell_type": "code",
   "execution_count": null,
   "id": "736f8325",
   "metadata": {},
   "outputs": [],
   "source": []
  }
 ],
 "metadata": {
  "kernelspec": {
   "display_name": "Python 3 (ipykernel)",
   "language": "python",
   "name": "python3"
  },
  "language_info": {
   "codemirror_mode": {
    "name": "ipython",
    "version": 3
   },
   "file_extension": ".py",
   "mimetype": "text/x-python",
   "name": "python",
   "nbconvert_exporter": "python",
   "pygments_lexer": "ipython3",
   "version": "3.8.18"
  }
 },
 "nbformat": 4,
 "nbformat_minor": 5
}
